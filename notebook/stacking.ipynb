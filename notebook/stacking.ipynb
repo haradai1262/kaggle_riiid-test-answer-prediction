{
 "cells": [
  {
   "cell_type": "code",
   "execution_count": 1,
   "metadata": {},
   "outputs": [],
   "source": [
    "import os\n",
    "import sys\n",
    "import gc\n",
    "import numpy as np\n",
    "import pandas as pd\n",
    "import pickle5\n",
    "from tqdm import tqdm\n",
    "import datetime\n",
    "import shutil\n",
    "\n",
    "from utils import (\n",
    "    save_as_pkl,\n",
    "    reduce_mem_usage\n",
    ")\n",
    "\n",
    "from sklearn.metrics import roc_auc_score, accuracy_score\n",
    "\n",
    "import seaborn as sns\n",
    "import matplotlib.pyplot as plt\n",
    "sns.set()\n",
    "\n",
    "from sklearn.linear_model import Ridge, RidgeClassifier\n",
    "from sklearn.model_selection import KFold\n",
    "\n",
    "pd.set_option('display.max_rows', 2000)\n",
    "pd.set_option('display.max_columns', None)"
   ]
  },
  {
   "cell_type": "code",
   "execution_count": 2,
   "metadata": {},
   "outputs": [
    {
     "name": "stdout",
     "output_type": "stream",
     "text": [
      "CAT Version 0.24.2\n"
     ]
    }
   ],
   "source": [
    "# catboost\n",
    "\n",
    "sys.path.append('/home/myaun/catboost/catboost/python-package')\n",
    "import catboost\n",
    "print('CAT Version', catboost.__version__)"
   ]
  },
  {
   "cell_type": "markdown",
   "metadata": {},
   "source": [
    "# Read data"
   ]
  },
  {
   "cell_type": "code",
   "execution_count": 3,
   "metadata": {},
   "outputs": [],
   "source": [
    "preds_vals = pd.DataFrame()\n",
    "preds_names = []"
   ]
  },
  {
   "cell_type": "code",
   "execution_count": 4,
   "metadata": {},
   "outputs": [],
   "source": [
    "now = datetime.datetime.now()\n",
    "stacking_exp_name = f'{now:%Y%m%d%H%M}_stacking_v4_8'"
   ]
  },
  {
   "cell_type": "code",
   "execution_count": 5,
   "metadata": {},
   "outputs": [],
   "source": [
    "is_save = True"
   ]
  },
  {
   "cell_type": "code",
   "execution_count": 6,
   "metadata": {},
   "outputs": [],
   "source": [
    "if is_save is True:\n",
    "    if not os.path.exists(f'../save/{stacking_exp_name}'):\n",
    "        os.mkdir(f'../save/{stacking_exp_name}')\n",
    "        os.mkdir(f'../save/{stacking_exp_name}/gbdt_model')\n",
    "        os.mkdir(f'../save/{stacking_exp_name}/seq_model')"
   ]
  },
  {
   "cell_type": "markdown",
   "metadata": {},
   "source": [
    "## GBDT"
   ]
  },
  {
   "cell_type": "code",
   "execution_count": 7,
   "metadata": {},
   "outputs": [],
   "source": [
    "FOLD_NAME = 'vlatest_ALL_2p5M'\n",
    "gbdt_run_id = '0166e411e51e48a8b6639b4da2510d61'\n",
    "\n",
    "EXP_NAME = f'{FOLD_NAME}__CAT'\n",
    "INPUT_DIR = '../save'\n",
    "SAVE_NAME = f'{EXP_NAME}_{gbdt_run_id}'\n",
    "sys.path.append(f'{INPUT_DIR}/{SAVE_NAME}/')\n",
    "import config\n",
    "use_features = config.use_features\n",
    "\n",
    "X_val_wo_lec = pd.read_feather(f'{INPUT_DIR}/{SAVE_NAME}/X_val_wo_lec.feather')\n",
    "y_val = X_val_wo_lec['answered_correctly'].values\n",
    "\n",
    "importances = pd.read_csv(f'{INPUT_DIR}/{SAVE_NAME}/importance_0166e411e51e48a8b6639b4da2510d61_0.8031931720326341_20201209.csv', index_col=0).sort_values('feat')\n",
    "\n",
    "EXP_NAME = f'{FOLD_NAME}__CAT'\n",
    "INPUT_DIR = '../save'\n",
    "SAVE_NAME = f'{EXP_NAME}_{gbdt_run_id}'"
   ]
  },
  {
   "cell_type": "code",
   "execution_count": 8,
   "metadata": {},
   "outputs": [],
   "source": [
    "if is_save is True:\n",
    "    GBDT_SAVE_NAME = f'{EXP_NAME}_{gbdt_run_id}'\n",
    "    shutil.copy(f'{INPUT_DIR}/{GBDT_SAVE_NAME}/features/riiidFE.pkl', f'../save/{stacking_exp_name}/riiidFE.pkl')"
   ]
  },
  {
   "cell_type": "code",
   "execution_count": 9,
   "metadata": {},
   "outputs": [],
   "source": [
    "mname = 'GBDT_cat1'\n",
    "seeds = [\n",
    "    1209,\n",
    "    461224,\n",
    "    20201209,\n",
    "    20214646,\n",
    "    46202146,\n",
    "    46462021,\n",
    "]\n",
    "for se in seeds:\n",
    "    preds_vals[f'{mname}_{se}'] = pd.read_csv(f'{INPUT_DIR}/{SAVE_NAME}/preds_val_{gbdt_run_id}_{se}.csv')['preds'].values\n",
    "    if is_save is True:\n",
    "        shutil.copy(f'{INPUT_DIR}/{GBDT_SAVE_NAME}/model/cat_model_{se}.pkl', f'../save/{stacking_exp_name}/gbdt_model/cat_model_{se}.pkl')"
   ]
  },
  {
   "cell_type": "markdown",
   "metadata": {},
   "source": [
    "## Transformer"
   ]
  },
  {
   "cell_type": "code",
   "execution_count": 10,
   "metadata": {},
   "outputs": [],
   "source": [
    "trans_run_id = 'transformer_020_8_20210106171509'\n",
    "\n",
    "EXP_NAME = f'{FOLD_NAME}__Tran'\n",
    "INPUT_DIR = '../save'\n",
    "SAVE_NAME = f'{EXP_NAME}_{trans_run_id}'\n",
    "\n",
    "mname = f'tran_{trans_run_id}'\n",
    "preds_vals[f'{mname}'] = pd.read_csv(f'{INPUT_DIR}/{SAVE_NAME}/preds_val_{trans_run_id}.csv')['preds'].values\n",
    "if is_save is True:\n",
    "    shutil.copy(f'{INPUT_DIR}/{SAVE_NAME}/seq_model/best_weight.pt', f'../save/{stacking_exp_name}/seq_model/{mname}.pt')"
   ]
  },
  {
   "cell_type": "code",
   "execution_count": 11,
   "metadata": {},
   "outputs": [],
   "source": [
    "trans_run_id = 'transformer_nariv2_1'\n",
    "\n",
    "INPUT_DIR = '../save'\n",
    "SAVE_NAME = f'{trans_run_id}'\n",
    "\n",
    "mname = f'tran_{trans_run_id}'\n",
    "preds_vals[f'{mname}'] = pd.read_csv(f'{INPUT_DIR}/{SAVE_NAME}/preds_val_{trans_run_id}.csv')['preds'].values\n",
    "if is_save is True:\n",
    "    shutil.copy(f'{INPUT_DIR}/{SAVE_NAME}/seq_model/best_weight.pt', f'../save/{stacking_exp_name}/seq_model/{mname}.pt')"
   ]
  },
  {
   "cell_type": "code",
   "execution_count": 12,
   "metadata": {},
   "outputs": [
    {
     "data": {
      "text/html": [
       "<div>\n",
       "<style scoped>\n",
       "    .dataframe tbody tr th:only-of-type {\n",
       "        vertical-align: middle;\n",
       "    }\n",
       "\n",
       "    .dataframe tbody tr th {\n",
       "        vertical-align: top;\n",
       "    }\n",
       "\n",
       "    .dataframe thead th {\n",
       "        text-align: right;\n",
       "    }\n",
       "</style>\n",
       "<table border=\"1\" class=\"dataframe\">\n",
       "  <thead>\n",
       "    <tr style=\"text-align: right;\">\n",
       "      <th></th>\n",
       "      <th>mname</th>\n",
       "      <th>auc</th>\n",
       "    </tr>\n",
       "  </thead>\n",
       "  <tbody>\n",
       "    <tr>\n",
       "      <th>0</th>\n",
       "      <td>GBDT_cat1_1209</td>\n",
       "      <td>0.803260</td>\n",
       "    </tr>\n",
       "    <tr>\n",
       "      <th>1</th>\n",
       "      <td>GBDT_cat1_461224</td>\n",
       "      <td>0.803254</td>\n",
       "    </tr>\n",
       "    <tr>\n",
       "      <th>2</th>\n",
       "      <td>GBDT_cat1_20201209</td>\n",
       "      <td>0.803193</td>\n",
       "    </tr>\n",
       "    <tr>\n",
       "      <th>3</th>\n",
       "      <td>GBDT_cat1_20214646</td>\n",
       "      <td>0.802605</td>\n",
       "    </tr>\n",
       "    <tr>\n",
       "      <th>4</th>\n",
       "      <td>GBDT_cat1_46202146</td>\n",
       "      <td>0.803619</td>\n",
       "    </tr>\n",
       "    <tr>\n",
       "      <th>5</th>\n",
       "      <td>GBDT_cat1_46462021</td>\n",
       "      <td>0.802652</td>\n",
       "    </tr>\n",
       "    <tr>\n",
       "      <th>6</th>\n",
       "      <td>tran_transformer_020_8_20210106171509</td>\n",
       "      <td>0.797130</td>\n",
       "    </tr>\n",
       "    <tr>\n",
       "      <th>7</th>\n",
       "      <td>tran_transformer_nariv2_1</td>\n",
       "      <td>0.797847</td>\n",
       "    </tr>\n",
       "  </tbody>\n",
       "</table>\n",
       "</div>"
      ],
      "text/plain": [
       "                                   mname       auc\n",
       "0                         GBDT_cat1_1209  0.803260\n",
       "1                       GBDT_cat1_461224  0.803254\n",
       "2                     GBDT_cat1_20201209  0.803193\n",
       "3                     GBDT_cat1_20214646  0.802605\n",
       "4                     GBDT_cat1_46202146  0.803619\n",
       "5                     GBDT_cat1_46462021  0.802652\n",
       "6  tran_transformer_020_8_20210106171509  0.797130\n",
       "7              tran_transformer_nariv2_1  0.797847"
      ]
     },
     "execution_count": 12,
     "metadata": {},
     "output_type": "execute_result"
    }
   ],
   "source": [
    "scores = []\n",
    "for i in range(preds_vals.shape[1]):\n",
    "    scores.append([preds_vals.columns[i], roc_auc_score(y_val, preds_vals.iloc[:, i])])\n",
    "pd.DataFrame(scores, columns=['mname', 'auc'])"
   ]
  },
  {
   "cell_type": "code",
   "execution_count": 14,
   "metadata": {},
   "outputs": [],
   "source": [
    "preds_names = preds_vals.columns.tolist()"
   ]
  },
  {
   "cell_type": "markdown",
   "metadata": {},
   "source": [
    "## Stacking"
   ]
  },
  {
   "cell_type": "markdown",
   "metadata": {},
   "source": [
    "### catboost, 5fold kf (preds + important features 50)"
   ]
  },
  {
   "cell_type": "code",
   "execution_count": 15,
   "metadata": {},
   "outputs": [],
   "source": [
    "def predict_cv_cat(train_x, train_y, kf):\n",
    "\n",
    "    CAT_PARAMS = {\n",
    "        'learning_rate': 0.04,\n",
    "        'depth': 8,\n",
    "        'l2_leaf_reg': 3.0,\n",
    "        'bagging_temperature': 0.2,\n",
    "        'border_count': 128,\n",
    "        'od_type': 'Iter',\n",
    "        'metric_period': 50,\n",
    "        'iterations': 30000,\n",
    "        'od_wait': 50,\n",
    "        'random_seed': RANDOM_STATE,\n",
    "        'task_type': 'GPU',\n",
    "        'gpu_ram_part': 0.95, \n",
    "    }\n",
    "\n",
    "    CAT_PARAMS['loss_function'] = 'Logloss'\n",
    "    CAT_PARAMS['eval_metric'] = 'AUC'\n",
    "\n",
    "    models = []\n",
    "    preds = []\n",
    "    va_idxes = []\n",
    "    \n",
    "    for fold_idx, (tr_idx, va_idx) in tqdm(enumerate(kf.split(preds_vals.values))):\n",
    "\n",
    "        tr_x, va_x = train_x.iloc[tr_idx], train_x.iloc[va_idx]\n",
    "        tr_y, va_y = train_y[tr_idx], train_y[va_idx]\n",
    "\n",
    "        model = catboost.CatBoostClassifier(\n",
    "            **CAT_PARAMS\n",
    "        )\n",
    "        model.fit(\n",
    "            tr_x, tr_y,\n",
    "            cat_features=[],\n",
    "            eval_set=(va_x, va_y),\n",
    "            use_best_model=True,\n",
    "            verbose=100\n",
    "        )\n",
    "        \n",
    "        pred = model.predict_proba(va_x)[:, 1]\n",
    "        preds.append(pred)\n",
    "\n",
    "        va_idxes.append(va_idx)\n",
    "        models.append(model)\n",
    "\n",
    "    va_idxes = np.concatenate(va_idxes)\n",
    "    preds = np.concatenate(preds, axis=0)\n",
    "    order = np.argsort(va_idxes)\n",
    "    pred_train = preds[order]\n",
    "    return models, pred_train"
   ]
  },
  {
   "cell_type": "code",
   "execution_count": 16,
   "metadata": {},
   "outputs": [],
   "source": [
    "use_features = importances.sort_values('importance', ascending=False).head(75)['feat'].tolist()"
   ]
  },
  {
   "cell_type": "code",
   "execution_count": 17,
   "metadata": {},
   "outputs": [
    {
     "name": "stderr",
     "output_type": "stream",
     "text": [
      "0it [00:00, ?it/s]"
     ]
    },
    {
     "name": "stdout",
     "output_type": "stream",
     "text": [
      "0:\tlearn: 0.8015955\ttest: 0.8008785\tbest: 0.8008785 (0)\ttotal: 33.7ms\tremaining: 16m 51s\n",
      "100:\tlearn: 0.8091644\ttest: 0.8082405\tbest: 0.8082405 (100)\ttotal: 2.38s\tremaining: 11m 45s\n",
      "200:\tlearn: 0.8100987\ttest: 0.8088167\tbest: 0.8088167 (200)\ttotal: 4.74s\tremaining: 11m 43s\n",
      "300:\tlearn: 0.8108082\ttest: 0.8090658\tbest: 0.8090658 (300)\ttotal: 7.2s\tremaining: 11m 50s\n",
      "400:\tlearn: 0.8114804\ttest: 0.8092045\tbest: 0.8092062 (399)\ttotal: 9.87s\tremaining: 12m 8s\n",
      "500:\tlearn: 0.8121356\ttest: 0.8093062\tbest: 0.8093062 (500)\ttotal: 12.4s\tremaining: 12m 11s\n",
      "600:\tlearn: 0.8127711\ttest: 0.8093654\tbest: 0.8093685 (595)\ttotal: 15.1s\tremaining: 12m 19s\n",
      "700:\tlearn: 0.8133748\ttest: 0.8094261\tbest: 0.8094264 (699)\ttotal: 17.7s\tremaining: 12m 21s\n",
      "800:\tlearn: 0.8139533\ttest: 0.8094870\tbest: 0.8094876 (794)\ttotal: 20.2s\tremaining: 12m 17s\n",
      "900:\tlearn: 0.8145727\ttest: 0.8095159\tbest: 0.8095194 (879)\ttotal: 22.6s\tremaining: 12m 10s\n",
      "1000:\tlearn: 0.8151458\ttest: 0.8095307\tbest: 0.8095312 (992)\ttotal: 25.2s\tremaining: 12m 8s\n",
      "1100:\tlearn: 0.8157170\ttest: 0.8095608\tbest: 0.8095608 (1100)\ttotal: 27.9s\tremaining: 12m 11s\n",
      "1200:\tlearn: 0.8162937\ttest: 0.8095877\tbest: 0.8095906 (1196)\ttotal: 30.4s\tremaining: 12m 8s\n",
      "1300:\tlearn: 0.8168595\ttest: 0.8095971\tbest: 0.8096017 (1294)\ttotal: 33s\tremaining: 12m 7s\n",
      "bestTest = 0.8096016943\n",
      "bestIteration = 1294\n",
      "Shrink model to first 1295 iterations.\n"
     ]
    },
    {
     "name": "stderr",
     "output_type": "stream",
     "text": [
      "1it [00:36, 36.59s/it]"
     ]
    },
    {
     "name": "stdout",
     "output_type": "stream",
     "text": [
      "0:\tlearn: 0.8012802\ttest: 0.8019373\tbest: 0.8019373 (0)\ttotal: 31.7ms\tremaining: 15m 52s\n",
      "100:\tlearn: 0.8090791\ttest: 0.8090006\tbest: 0.8090006 (100)\ttotal: 2.69s\tremaining: 13m 17s\n",
      "200:\tlearn: 0.8100321\ttest: 0.8095171\tbest: 0.8095171 (200)\ttotal: 5.41s\tremaining: 13m 21s\n",
      "300:\tlearn: 0.8107328\ttest: 0.8097540\tbest: 0.8097540 (300)\ttotal: 7.78s\tremaining: 12m 47s\n",
      "400:\tlearn: 0.8113925\ttest: 0.8098842\tbest: 0.8098850 (399)\ttotal: 10.2s\tremaining: 12m 32s\n",
      "500:\tlearn: 0.8120671\ttest: 0.8099718\tbest: 0.8099730 (496)\ttotal: 12.9s\tremaining: 12m 40s\n",
      "600:\tlearn: 0.8127002\ttest: 0.8100303\tbest: 0.8100314 (598)\ttotal: 15.6s\tremaining: 12m 42s\n",
      "700:\tlearn: 0.8133081\ttest: 0.8100763\tbest: 0.8100775 (697)\ttotal: 18.2s\tremaining: 12m 41s\n",
      "800:\tlearn: 0.8139042\ttest: 0.8101053\tbest: 0.8101053 (799)\ttotal: 21s\tremaining: 12m 44s\n",
      "900:\tlearn: 0.8144882\ttest: 0.8101328\tbest: 0.8101336 (891)\ttotal: 23.5s\tremaining: 12m 37s\n",
      "1000:\tlearn: 0.8150564\ttest: 0.8101614\tbest: 0.8101651 (985)\ttotal: 26.1s\tremaining: 12m 34s\n",
      "bestTest = 0.8101650774\n",
      "bestIteration = 985\n",
      "Shrink model to first 986 iterations.\n"
     ]
    },
    {
     "name": "stderr",
     "output_type": "stream",
     "text": [
      "2it [01:05, 31.87s/it]"
     ]
    },
    {
     "name": "stdout",
     "output_type": "stream",
     "text": [
      "0:\tlearn: 0.8013949\ttest: 0.8011708\tbest: 0.8011708 (0)\ttotal: 31.6ms\tremaining: 15m 48s\n",
      "100:\tlearn: 0.8090949\ttest: 0.8085653\tbest: 0.8085653 (100)\ttotal: 2.45s\tremaining: 12m 4s\n",
      "200:\tlearn: 0.8100632\ttest: 0.8091343\tbest: 0.8091343 (200)\ttotal: 4.9s\tremaining: 12m 6s\n",
      "300:\tlearn: 0.8107712\ttest: 0.8093622\tbest: 0.8093622 (300)\ttotal: 7.56s\tremaining: 12m 26s\n",
      "400:\tlearn: 0.8114335\ttest: 0.8094914\tbest: 0.8094918 (395)\ttotal: 10.3s\tremaining: 12m 42s\n",
      "500:\tlearn: 0.8120922\ttest: 0.8095846\tbest: 0.8095846 (500)\ttotal: 13s\tremaining: 12m 42s\n",
      "600:\tlearn: 0.8127141\ttest: 0.8096327\tbest: 0.8096337 (598)\ttotal: 15.6s\tremaining: 12m 43s\n",
      "700:\tlearn: 0.8133438\ttest: 0.8096932\tbest: 0.8096962 (693)\ttotal: 18.2s\tremaining: 12m 39s\n",
      "800:\tlearn: 0.8139325\ttest: 0.8097151\tbest: 0.8097161 (792)\ttotal: 20.7s\tremaining: 12m 33s\n",
      "900:\tlearn: 0.8145410\ttest: 0.8097385\tbest: 0.8097395 (898)\ttotal: 23.2s\tremaining: 12m 28s\n",
      "bestTest = 0.8097473383\n",
      "bestIteration = 931\n",
      "Shrink model to first 932 iterations.\n"
     ]
    },
    {
     "name": "stderr",
     "output_type": "stream",
     "text": [
      "3it [01:32, 29.59s/it]"
     ]
    },
    {
     "name": "stdout",
     "output_type": "stream",
     "text": [
      "0:\tlearn: 0.8014500\ttest: 0.8009291\tbest: 0.8009291 (0)\ttotal: 29.7ms\tremaining: 14m 50s\n",
      "100:\tlearn: 0.8091132\ttest: 0.8085387\tbest: 0.8085387 (100)\ttotal: 2.58s\tremaining: 12m 43s\n",
      "200:\tlearn: 0.8100524\ttest: 0.8091055\tbest: 0.8091055 (200)\ttotal: 5.19s\tremaining: 12m 49s\n",
      "300:\tlearn: 0.8107304\ttest: 0.8093472\tbest: 0.8093472 (300)\ttotal: 7.89s\tremaining: 12m 58s\n",
      "400:\tlearn: 0.8114103\ttest: 0.8094891\tbest: 0.8094891 (400)\ttotal: 10.6s\tremaining: 12m 58s\n",
      "500:\tlearn: 0.8120781\ttest: 0.8095914\tbest: 0.8095914 (500)\ttotal: 13.1s\tremaining: 12m 51s\n",
      "600:\tlearn: 0.8127028\ttest: 0.8096681\tbest: 0.8096681 (600)\ttotal: 15.7s\tremaining: 12m 46s\n",
      "700:\tlearn: 0.8133151\ttest: 0.8097194\tbest: 0.8097194 (700)\ttotal: 18.3s\tremaining: 12m 46s\n",
      "800:\tlearn: 0.8139085\ttest: 0.8097416\tbest: 0.8097416 (795)\ttotal: 20.8s\tremaining: 12m 38s\n",
      "900:\tlearn: 0.8144946\ttest: 0.8097783\tbest: 0.8097786 (889)\ttotal: 23.3s\tremaining: 12m 31s\n",
      "1000:\tlearn: 0.8150789\ttest: 0.8098049\tbest: 0.8098123 (992)\ttotal: 25.8s\tremaining: 12m 27s\n",
      "1100:\tlearn: 0.8156528\ttest: 0.8098264\tbest: 0.8098264 (1100)\ttotal: 28.5s\tremaining: 12m 26s\n",
      "1200:\tlearn: 0.8162232\ttest: 0.8098448\tbest: 0.8098471 (1192)\ttotal: 31s\tremaining: 12m 24s\n",
      "1300:\tlearn: 0.8168021\ttest: 0.8098692\tbest: 0.8098692 (1300)\ttotal: 33.6s\tremaining: 12m 21s\n",
      "bestTest = 0.8098724782\n",
      "bestIteration = 1314\n",
      "Shrink model to first 1315 iterations.\n"
     ]
    },
    {
     "name": "stderr",
     "output_type": "stream",
     "text": [
      "4it [02:08, 32.48s/it]"
     ]
    },
    {
     "name": "stdout",
     "output_type": "stream",
     "text": [
      "0:\tlearn: 0.8014590\ttest: 0.8009411\tbest: 0.8009411 (0)\ttotal: 34.4ms\tremaining: 17m 10s\n",
      "100:\tlearn: 0.8091309\ttest: 0.8084508\tbest: 0.8084508 (100)\ttotal: 2.51s\tremaining: 12m 23s\n",
      "200:\tlearn: 0.8100811\ttest: 0.8090405\tbest: 0.8090405 (200)\ttotal: 5.26s\tremaining: 13m\n",
      "300:\tlearn: 0.8107733\ttest: 0.8092817\tbest: 0.8092817 (300)\ttotal: 8s\tremaining: 13m 9s\n",
      "400:\tlearn: 0.8114447\ttest: 0.8094226\tbest: 0.8094229 (399)\ttotal: 10.5s\tremaining: 12m 57s\n",
      "500:\tlearn: 0.8120839\ttest: 0.8095233\tbest: 0.8095233 (500)\ttotal: 13s\tremaining: 12m 47s\n",
      "600:\tlearn: 0.8127218\ttest: 0.8095888\tbest: 0.8095888 (600)\ttotal: 15.6s\tremaining: 12m 44s\n",
      "700:\tlearn: 0.8133304\ttest: 0.8096502\tbest: 0.8096502 (700)\ttotal: 18.2s\tremaining: 12m 42s\n",
      "800:\tlearn: 0.8139319\ttest: 0.8096809\tbest: 0.8096823 (784)\ttotal: 21s\tremaining: 12m 44s\n",
      "900:\tlearn: 0.8145251\ttest: 0.8097098\tbest: 0.8097105 (899)\ttotal: 23.8s\tremaining: 12m 49s\n",
      "bestTest = 0.8097142875\n",
      "bestIteration = 909\n",
      "Shrink model to first 910 iterations.\n"
     ]
    },
    {
     "name": "stderr",
     "output_type": "stream",
     "text": [
      "5it [02:35, 30.50s/it]"
     ]
    },
    {
     "name": "stdout",
     "output_type": "stream",
     "text": [
      "0:\tlearn: 0.8013335\ttest: 0.8020644\tbest: 0.8020644 (0)\ttotal: 33.6ms\tremaining: 16m 48s\n",
      "100:\tlearn: 0.8089856\ttest: 0.8096781\tbest: 0.8096781 (100)\ttotal: 2.64s\tremaining: 13m 1s\n",
      "200:\tlearn: 0.8099038\ttest: 0.8102987\tbest: 0.8102987 (200)\ttotal: 5.29s\tremaining: 13m 4s\n",
      "300:\tlearn: 0.8106101\ttest: 0.8105752\tbest: 0.8105752 (300)\ttotal: 7.94s\tremaining: 13m 3s\n",
      "400:\tlearn: 0.8112741\ttest: 0.8107411\tbest: 0.8107411 (400)\ttotal: 10.6s\tremaining: 13m 2s\n",
      "500:\tlearn: 0.8119298\ttest: 0.8108193\tbest: 0.8108221 (498)\ttotal: 13.2s\tremaining: 12m 57s\n",
      "600:\tlearn: 0.8125604\ttest: 0.8108987\tbest: 0.8109001 (597)\ttotal: 15.8s\tremaining: 12m 51s\n",
      "700:\tlearn: 0.8131720\ttest: 0.8109512\tbest: 0.8109512 (700)\ttotal: 18.5s\tremaining: 12m 53s\n",
      "800:\tlearn: 0.8137910\ttest: 0.8110046\tbest: 0.8110061 (798)\ttotal: 21.3s\tremaining: 12m 55s\n",
      "900:\tlearn: 0.8143813\ttest: 0.8110458\tbest: 0.8110458 (900)\ttotal: 24.1s\tremaining: 12m 58s\n",
      "1000:\tlearn: 0.8149807\ttest: 0.8110766\tbest: 0.8110779 (997)\ttotal: 27s\tremaining: 13m 3s\n",
      "bestTest = 0.8110884428\n",
      "bestIteration = 1030\n",
      "Shrink model to first 1031 iterations.\n"
     ]
    },
    {
     "name": "stderr",
     "output_type": "stream",
     "text": [
      "6it [03:06, 30.58s/it]"
     ]
    },
    {
     "name": "stdout",
     "output_type": "stream",
     "text": [
      "0:\tlearn: 0.8014058\ttest: 0.8011852\tbest: 0.8011852 (0)\ttotal: 32.5ms\tremaining: 16m 16s\n",
      "100:\tlearn: 0.8091071\ttest: 0.8087886\tbest: 0.8087886 (100)\ttotal: 2.65s\tremaining: 13m 3s\n",
      "200:\tlearn: 0.8100579\ttest: 0.8093025\tbest: 0.8093025 (200)\ttotal: 5.33s\tremaining: 13m 9s\n",
      "300:\tlearn: 0.8107698\ttest: 0.8095094\tbest: 0.8095094 (300)\ttotal: 8.18s\tremaining: 13m 27s\n",
      "400:\tlearn: 0.8114226\ttest: 0.8096156\tbest: 0.8096156 (400)\ttotal: 11s\tremaining: 13m 31s\n",
      "500:\tlearn: 0.8120872\ttest: 0.8096995\tbest: 0.8096995 (500)\ttotal: 13.6s\tremaining: 13m 19s\n",
      "600:\tlearn: 0.8127309\ttest: 0.8097607\tbest: 0.8097607 (600)\ttotal: 16.3s\tremaining: 13m 17s\n",
      "700:\tlearn: 0.8133482\ttest: 0.8097910\tbest: 0.8097926 (699)\ttotal: 19.1s\tremaining: 13m 20s\n",
      "800:\tlearn: 0.8139418\ttest: 0.8098278\tbest: 0.8098278 (800)\ttotal: 22.1s\tremaining: 13m 26s\n",
      "900:\tlearn: 0.8145416\ttest: 0.8098522\tbest: 0.8098557 (891)\ttotal: 25s\tremaining: 13m 27s\n",
      "1000:\tlearn: 0.8151319\ttest: 0.8098653\tbest: 0.8098714 (992)\ttotal: 27.6s\tremaining: 13m 19s\n",
      "bestTest = 0.8098713756\n",
      "bestIteration = 992\n",
      "Shrink model to first 993 iterations.\n"
     ]
    },
    {
     "name": "stderr",
     "output_type": "stream",
     "text": [
      "7it [03:37, 30.55s/it]"
     ]
    },
    {
     "name": "stdout",
     "output_type": "stream",
     "text": [
      "0:\tlearn: 0.8014548\ttest: 0.8008030\tbest: 0.8008030 (0)\ttotal: 30.3ms\tremaining: 15m 10s\n",
      "100:\tlearn: 0.8091516\ttest: 0.8082618\tbest: 0.8082618 (100)\ttotal: 2.77s\tremaining: 13m 39s\n",
      "200:\tlearn: 0.8100905\ttest: 0.8088755\tbest: 0.8088755 (200)\ttotal: 5.33s\tremaining: 13m 10s\n",
      "300:\tlearn: 0.8108141\ttest: 0.8091501\tbest: 0.8091501 (300)\ttotal: 8.05s\tremaining: 13m 14s\n",
      "400:\tlearn: 0.8114881\ttest: 0.8092736\tbest: 0.8092736 (400)\ttotal: 10.8s\tremaining: 13m 18s\n",
      "500:\tlearn: 0.8121477\ttest: 0.8093447\tbest: 0.8093447 (500)\ttotal: 13.6s\tremaining: 13m 19s\n",
      "600:\tlearn: 0.8127872\ttest: 0.8094055\tbest: 0.8094077 (596)\ttotal: 16.4s\tremaining: 13m 23s\n",
      "700:\tlearn: 0.8134148\ttest: 0.8094451\tbest: 0.8094451 (700)\ttotal: 19.1s\tremaining: 13m 17s\n",
      "800:\tlearn: 0.8140114\ttest: 0.8094636\tbest: 0.8094652 (788)\ttotal: 21.8s\tremaining: 13m 13s\n",
      "900:\tlearn: 0.8146092\ttest: 0.8094931\tbest: 0.8094938 (897)\ttotal: 24.5s\tremaining: 13m 12s\n",
      "1000:\tlearn: 0.8151942\ttest: 0.8095060\tbest: 0.8095103 (977)\ttotal: 27.3s\tremaining: 13m 11s\n",
      "1100:\tlearn: 0.8157496\ttest: 0.8095250\tbest: 0.8095307 (1087)\ttotal: 30.1s\tremaining: 13m 10s\n",
      "1200:\tlearn: 0.8163241\ttest: 0.8095421\tbest: 0.8095468 (1171)\ttotal: 33s\tremaining: 13m 10s\n",
      "bestTest = 0.8095468283\n",
      "bestIteration = 1171\n",
      "Shrink model to first 1172 iterations.\n"
     ]
    },
    {
     "name": "stderr",
     "output_type": "stream",
     "text": [
      "8it [04:12, 32.06s/it]"
     ]
    },
    {
     "name": "stdout",
     "output_type": "stream",
     "text": [
      "0:\tlearn: 0.8015417\ttest: 0.8021137\tbest: 0.8021137 (0)\ttotal: 32.9ms\tremaining: 16m 27s\n",
      "100:\tlearn: 0.8090221\ttest: 0.8094668\tbest: 0.8094668 (100)\ttotal: 2.75s\tremaining: 13m 33s\n",
      "200:\tlearn: 0.8099610\ttest: 0.8100084\tbest: 0.8100084 (200)\ttotal: 5.5s\tremaining: 13m 35s\n",
      "300:\tlearn: 0.8106679\ttest: 0.8102409\tbest: 0.8102409 (300)\ttotal: 8.34s\tremaining: 13m 43s\n",
      "400:\tlearn: 0.8113202\ttest: 0.8103817\tbest: 0.8103817 (400)\ttotal: 11s\tremaining: 13m 28s\n",
      "500:\tlearn: 0.8119758\ttest: 0.8104687\tbest: 0.8104687 (500)\ttotal: 13.6s\tremaining: 13m 20s\n",
      "600:\tlearn: 0.8126276\ttest: 0.8105414\tbest: 0.8105414 (600)\ttotal: 16.3s\tremaining: 13m 18s\n",
      "700:\tlearn: 0.8132358\ttest: 0.8105740\tbest: 0.8105759 (687)\ttotal: 19s\tremaining: 13m 15s\n",
      "800:\tlearn: 0.8138444\ttest: 0.8105931\tbest: 0.8105931 (800)\ttotal: 21.8s\tremaining: 13m 16s\n",
      "900:\tlearn: 0.8144315\ttest: 0.8106021\tbest: 0.8106028 (873)\ttotal: 24.3s\tremaining: 13m 5s\n",
      "1000:\tlearn: 0.8150081\ttest: 0.8106218\tbest: 0.8106220 (975)\ttotal: 27s\tremaining: 13m\n",
      "bestTest = 0.8106225729\n",
      "bestIteration = 1030\n",
      "Shrink model to first 1031 iterations.\n"
     ]
    },
    {
     "name": "stderr",
     "output_type": "stream",
     "text": [
      "9it [04:43, 31.48s/it]\n"
     ]
    },
    {
     "name": "stdout",
     "output_type": "stream",
     "text": [
      "seed 20201209, AUC: 0.8100234462719504\n"
     ]
    },
    {
     "name": "stderr",
     "output_type": "stream",
     "text": [
      "0it [00:00, ?it/s]"
     ]
    },
    {
     "name": "stdout",
     "output_type": "stream",
     "text": [
      "0:\tlearn: 0.8015767\ttest: 0.8016864\tbest: 0.8016864 (0)\ttotal: 39.3ms\tremaining: 19m 39s\n",
      "100:\tlearn: 0.8090863\ttest: 0.8089310\tbest: 0.8089310 (100)\ttotal: 2.88s\tremaining: 14m 11s\n",
      "200:\tlearn: 0.8100430\ttest: 0.8094859\tbest: 0.8094859 (200)\ttotal: 5.81s\tremaining: 14m 21s\n",
      "300:\tlearn: 0.8107449\ttest: 0.8096994\tbest: 0.8096994 (300)\ttotal: 8.55s\tremaining: 14m 3s\n",
      "400:\tlearn: 0.8113929\ttest: 0.8098323\tbest: 0.8098323 (400)\ttotal: 11.1s\tremaining: 13m 42s\n",
      "500:\tlearn: 0.8120491\ttest: 0.8099213\tbest: 0.8099213 (500)\ttotal: 13.9s\tremaining: 13m 38s\n",
      "600:\tlearn: 0.8126838\ttest: 0.8099867\tbest: 0.8099867 (600)\ttotal: 16.7s\tremaining: 13m 38s\n",
      "700:\tlearn: 0.8133105\ttest: 0.8099943\tbest: 0.8100028 (668)\ttotal: 19.7s\tremaining: 13m 44s\n",
      "bestTest = 0.8100028336\n",
      "bestIteration = 668\n",
      "Shrink model to first 669 iterations.\n"
     ]
    },
    {
     "name": "stderr",
     "output_type": "stream",
     "text": [
      "1it [00:22, 22.39s/it]"
     ]
    },
    {
     "name": "stdout",
     "output_type": "stream",
     "text": [
      "0:\tlearn: 0.8019008\ttest: 0.8008322\tbest: 0.8008322 (0)\ttotal: 30.4ms\tremaining: 15m 12s\n",
      "100:\tlearn: 0.8092346\ttest: 0.8077070\tbest: 0.8077070 (100)\ttotal: 2.69s\tremaining: 13m 15s\n",
      "200:\tlearn: 0.8101771\ttest: 0.8082625\tbest: 0.8082625 (200)\ttotal: 5.5s\tremaining: 13m 34s\n",
      "300:\tlearn: 0.8108842\ttest: 0.8084966\tbest: 0.8084966 (300)\ttotal: 8.35s\tremaining: 13m 44s\n",
      "400:\tlearn: 0.8115414\ttest: 0.8086055\tbest: 0.8086055 (400)\ttotal: 11.4s\tremaining: 14m\n",
      "500:\tlearn: 0.8122201\ttest: 0.8086948\tbest: 0.8086949 (499)\ttotal: 14.1s\tremaining: 13m 49s\n",
      "600:\tlearn: 0.8128552\ttest: 0.8087699\tbest: 0.8087699 (600)\ttotal: 16.9s\tremaining: 13m 47s\n",
      "700:\tlearn: 0.8134796\ttest: 0.8088045\tbest: 0.8088045 (700)\ttotal: 19.7s\tremaining: 13m 42s\n",
      "800:\tlearn: 0.8140864\ttest: 0.8088328\tbest: 0.8088328 (800)\ttotal: 22.6s\tremaining: 13m 43s\n",
      "900:\tlearn: 0.8146545\ttest: 0.8088745\tbest: 0.8088745 (900)\ttotal: 25.6s\tremaining: 13m 45s\n",
      "1000:\tlearn: 0.8152415\ttest: 0.8088852\tbest: 0.8088865 (999)\ttotal: 28.6s\tremaining: 13m 48s\n",
      "1100:\tlearn: 0.8158078\ttest: 0.8089129\tbest: 0.8089148 (1096)\ttotal: 31.4s\tremaining: 13m 44s\n",
      "bestTest = 0.8089166582\n",
      "bestIteration = 1137\n",
      "Shrink model to first 1138 iterations.\n"
     ]
    },
    {
     "name": "stderr",
     "output_type": "stream",
     "text": [
      "2it [00:57, 30.08s/it]"
     ]
    },
    {
     "name": "stdout",
     "output_type": "stream",
     "text": [
      "0:\tlearn: 0.8005875\ttest: 0.8023708\tbest: 0.8023708 (0)\ttotal: 32.5ms\tremaining: 16m 14s\n",
      "100:\tlearn: 0.8089075\ttest: 0.8104903\tbest: 0.8104903 (100)\ttotal: 2.83s\tremaining: 13m 57s\n",
      "200:\tlearn: 0.8098309\ttest: 0.8110839\tbest: 0.8110839 (200)\ttotal: 5.64s\tremaining: 13m 56s\n",
      "300:\tlearn: 0.8105314\ttest: 0.8113223\tbest: 0.8113223 (300)\ttotal: 8.42s\tremaining: 13m 50s\n",
      "400:\tlearn: 0.8111882\ttest: 0.8114939\tbest: 0.8114939 (400)\ttotal: 11.3s\tremaining: 13m 51s\n",
      "500:\tlearn: 0.8118329\ttest: 0.8115841\tbest: 0.8115841 (500)\ttotal: 13.9s\tremaining: 13m 38s\n",
      "600:\tlearn: 0.8124702\ttest: 0.8116584\tbest: 0.8116592 (599)\ttotal: 16.7s\tremaining: 13m 35s\n",
      "700:\tlearn: 0.8130830\ttest: 0.8116956\tbest: 0.8116965 (697)\ttotal: 19.4s\tremaining: 13m 30s\n",
      "800:\tlearn: 0.8136945\ttest: 0.8117325\tbest: 0.8117325 (800)\ttotal: 22.1s\tremaining: 13m 26s\n",
      "900:\tlearn: 0.8143084\ttest: 0.8117549\tbest: 0.8117560 (878)\ttotal: 24.8s\tremaining: 13m 19s\n",
      "1000:\tlearn: 0.8148974\ttest: 0.8117672\tbest: 0.8117707 (992)\ttotal: 27.4s\tremaining: 13m 14s\n",
      "1100:\tlearn: 0.8154965\ttest: 0.8117797\tbest: 0.8117799 (1097)\ttotal: 30.1s\tremaining: 13m 9s\n",
      "1200:\tlearn: 0.8160532\ttest: 0.8117954\tbest: 0.8117993 (1176)\ttotal: 32.5s\tremaining: 12m 59s\n",
      "1300:\tlearn: 0.8166171\ttest: 0.8118030\tbest: 0.8118102 (1274)\ttotal: 35s\tremaining: 12m 51s\n",
      "bestTest = 0.8118102252\n",
      "bestIteration = 1274\n",
      "Shrink model to first 1275 iterations.\n"
     ]
    },
    {
     "name": "stderr",
     "output_type": "stream",
     "text": [
      "3it [01:35, 33.36s/it]"
     ]
    },
    {
     "name": "stdout",
     "output_type": "stream",
     "text": [
      "0:\tlearn: 0.8015721\ttest: 0.8017742\tbest: 0.8017742 (0)\ttotal: 31.1ms\tremaining: 15m 32s\n",
      "100:\tlearn: 0.8090642\ttest: 0.8091455\tbest: 0.8091455 (100)\ttotal: 2.62s\tremaining: 12m 56s\n",
      "200:\tlearn: 0.8099984\ttest: 0.8096806\tbest: 0.8096806 (200)\ttotal: 5.23s\tremaining: 12m 55s\n",
      "300:\tlearn: 0.8107103\ttest: 0.8099369\tbest: 0.8099369 (300)\ttotal: 8.09s\tremaining: 13m 18s\n",
      "400:\tlearn: 0.8113492\ttest: 0.8100801\tbest: 0.8100801 (400)\ttotal: 11s\tremaining: 13m 30s\n",
      "500:\tlearn: 0.8120170\ttest: 0.8101857\tbest: 0.8101857 (500)\ttotal: 13.8s\tremaining: 13m 32s\n",
      "600:\tlearn: 0.8126469\ttest: 0.8102524\tbest: 0.8102524 (600)\ttotal: 16.3s\tremaining: 13m 19s\n",
      "700:\tlearn: 0.8132672\ttest: 0.8102979\tbest: 0.8103002 (685)\ttotal: 18.9s\tremaining: 13m 10s\n",
      "800:\tlearn: 0.8138685\ttest: 0.8103299\tbest: 0.8103299 (800)\ttotal: 21.6s\tremaining: 13m 9s\n",
      "900:\tlearn: 0.8144480\ttest: 0.8103518\tbest: 0.8103540 (897)\ttotal: 24.6s\tremaining: 13m 16s\n",
      "1000:\tlearn: 0.8150235\ttest: 0.8103788\tbest: 0.8103802 (989)\ttotal: 27.4s\tremaining: 13m 13s\n",
      "1100:\tlearn: 0.8156219\ttest: 0.8103931\tbest: 0.8103947 (1090)\ttotal: 30.1s\tremaining: 13m 8s\n",
      "bestTest = 0.8104043007\n",
      "bestIteration = 1136\n",
      "Shrink model to first 1137 iterations.\n"
     ]
    },
    {
     "name": "stderr",
     "output_type": "stream",
     "text": [
      "4it [02:09, 33.63s/it]"
     ]
    },
    {
     "name": "stdout",
     "output_type": "stream",
     "text": [
      "0:\tlearn: 0.8011920\ttest: 0.8010130\tbest: 0.8010130 (0)\ttotal: 31.3ms\tremaining: 15m 39s\n",
      "100:\tlearn: 0.8090853\ttest: 0.8087974\tbest: 0.8087974 (100)\ttotal: 2.53s\tremaining: 12m 29s\n",
      "200:\tlearn: 0.8100474\ttest: 0.8093925\tbest: 0.8093925 (200)\ttotal: 5.2s\tremaining: 12m 50s\n",
      "300:\tlearn: 0.8107511\ttest: 0.8096420\tbest: 0.8096420 (300)\ttotal: 7.88s\tremaining: 12m 57s\n",
      "400:\tlearn: 0.8114087\ttest: 0.8098012\tbest: 0.8098012 (400)\ttotal: 10.5s\tremaining: 12m 57s\n",
      "500:\tlearn: 0.8120624\ttest: 0.8098777\tbest: 0.8098777 (500)\ttotal: 13.3s\tremaining: 13m 5s\n",
      "600:\tlearn: 0.8126994\ttest: 0.8099416\tbest: 0.8099416 (600)\ttotal: 16.2s\tremaining: 13m 14s\n",
      "700:\tlearn: 0.8133068\ttest: 0.8100111\tbest: 0.8100111 (700)\ttotal: 19.2s\tremaining: 13m 20s\n",
      "bestTest = 0.8100294471\n",
      "bestIteration = 743\n",
      "Shrink model to first 744 iterations.\n"
     ]
    },
    {
     "name": "stderr",
     "output_type": "stream",
     "text": [
      "5it [02:32, 29.89s/it]"
     ]
    },
    {
     "name": "stdout",
     "output_type": "stream",
     "text": [
      "0:\tlearn: 0.8009181\ttest: 0.8000861\tbest: 0.8000861 (0)\ttotal: 31.8ms\tremaining: 15m 54s\n",
      "100:\tlearn: 0.8092319\ttest: 0.8080104\tbest: 0.8080104 (100)\ttotal: 2.73s\tremaining: 13m 29s\n",
      "200:\tlearn: 0.8101656\ttest: 0.8085833\tbest: 0.8085833 (200)\ttotal: 5.42s\tremaining: 13m 23s\n",
      "300:\tlearn: 0.8108809\ttest: 0.8088190\tbest: 0.8088190 (300)\ttotal: 8.11s\tremaining: 13m 19s\n",
      "400:\tlearn: 0.8115086\ttest: 0.8089367\tbest: 0.8089367 (400)\ttotal: 10.7s\tremaining: 13m 13s\n",
      "500:\tlearn: 0.8121662\ttest: 0.8090246\tbest: 0.8090248 (499)\ttotal: 13.5s\tremaining: 13m 14s\n",
      "600:\tlearn: 0.8128070\ttest: 0.8090761\tbest: 0.8090761 (600)\ttotal: 16.2s\tremaining: 13m 13s\n",
      "700:\tlearn: 0.8134103\ttest: 0.8091179\tbest: 0.8091186 (695)\ttotal: 18.8s\tremaining: 13m 5s\n",
      "800:\tlearn: 0.8140312\ttest: 0.8091570\tbest: 0.8091589 (794)\ttotal: 21.5s\tremaining: 13m 2s\n",
      "900:\tlearn: 0.8146178\ttest: 0.8091894\tbest: 0.8091913 (893)\ttotal: 24.2s\tremaining: 13m 1s\n",
      "1000:\tlearn: 0.8152012\ttest: 0.8092107\tbest: 0.8092107 (1000)\ttotal: 27.1s\tremaining: 13m 4s\n",
      "1100:\tlearn: 0.8157765\ttest: 0.8092330\tbest: 0.8092345 (1097)\ttotal: 29.8s\tremaining: 13m 2s\n",
      "1200:\tlearn: 0.8163359\ttest: 0.8092424\tbest: 0.8092465 (1195)\ttotal: 32.6s\tremaining: 13m 2s\n",
      "1300:\tlearn: 0.8169135\ttest: 0.8092481\tbest: 0.8092541 (1293)\ttotal: 35.6s\tremaining: 13m 5s\n",
      "1400:\tlearn: 0.8174843\ttest: 0.8092535\tbest: 0.8092640 (1353)\ttotal: 38.4s\tremaining: 13m 3s\n",
      "bestTest = 0.8092639744\n",
      "bestIteration = 1353\n",
      "Shrink model to first 1354 iterations.\n"
     ]
    },
    {
     "name": "stderr",
     "output_type": "stream",
     "text": [
      "6it [03:12, 33.40s/it]"
     ]
    },
    {
     "name": "stdout",
     "output_type": "stream",
     "text": [
      "0:\tlearn: 0.8017251\ttest: 0.8009486\tbest: 0.8009486 (0)\ttotal: 33.9ms\tremaining: 16m 56s\n",
      "100:\tlearn: 0.8091939\ttest: 0.8080454\tbest: 0.8080454 (100)\ttotal: 2.83s\tremaining: 13m 57s\n",
      "200:\tlearn: 0.8101298\ttest: 0.8086965\tbest: 0.8086965 (200)\ttotal: 5.75s\tremaining: 14m 12s\n",
      "300:\tlearn: 0.8108329\ttest: 0.8089395\tbest: 0.8089395 (300)\ttotal: 8.64s\tremaining: 14m 12s\n",
      "400:\tlearn: 0.8114717\ttest: 0.8090656\tbest: 0.8090656 (400)\ttotal: 11.4s\tremaining: 14m 1s\n",
      "500:\tlearn: 0.8121324\ttest: 0.8091489\tbest: 0.8091499 (498)\ttotal: 14.2s\tremaining: 13m 54s\n",
      "600:\tlearn: 0.8127694\ttest: 0.8092016\tbest: 0.8092016 (600)\ttotal: 17.1s\tremaining: 13m 56s\n",
      "700:\tlearn: 0.8133868\ttest: 0.8092371\tbest: 0.8092371 (700)\ttotal: 19.8s\tremaining: 13m 48s\n",
      "800:\tlearn: 0.8139897\ttest: 0.8092915\tbest: 0.8092920 (795)\ttotal: 22.6s\tremaining: 13m 45s\n",
      "900:\tlearn: 0.8145734\ttest: 0.8093408\tbest: 0.8093412 (898)\ttotal: 25.5s\tremaining: 13m 42s\n",
      "1000:\tlearn: 0.8151842\ttest: 0.8093497\tbest: 0.8093543 (995)\ttotal: 28.1s\tremaining: 13m 34s\n",
      "bestTest = 0.8093543351\n",
      "bestIteration = 995\n",
      "Shrink model to first 996 iterations.\n"
     ]
    },
    {
     "name": "stderr",
     "output_type": "stream",
     "text": [
      "7it [03:43, 32.58s/it]"
     ]
    },
    {
     "name": "stdout",
     "output_type": "stream",
     "text": [
      "0:\tlearn: 0.8010644\ttest: 0.8008076\tbest: 0.8008076 (0)\ttotal: 31.3ms\tremaining: 15m 39s\n",
      "100:\tlearn: 0.8091316\ttest: 0.8087016\tbest: 0.8087016 (100)\ttotal: 2.94s\tremaining: 14m 31s\n",
      "200:\tlearn: 0.8100986\ttest: 0.8092616\tbest: 0.8092616 (200)\ttotal: 5.94s\tremaining: 14m 40s\n",
      "300:\tlearn: 0.8108182\ttest: 0.8094904\tbest: 0.8094908 (299)\ttotal: 8.82s\tremaining: 14m 29s\n",
      "400:\tlearn: 0.8114674\ttest: 0.8096121\tbest: 0.8096121 (400)\ttotal: 11.6s\tremaining: 14m 16s\n",
      "500:\tlearn: 0.8121240\ttest: 0.8096938\tbest: 0.8096945 (498)\ttotal: 14.6s\tremaining: 14m 16s\n",
      "600:\tlearn: 0.8127571\ttest: 0.8097472\tbest: 0.8097472 (600)\ttotal: 17.5s\tremaining: 14m 18s\n",
      "700:\tlearn: 0.8133652\ttest: 0.8098067\tbest: 0.8098077 (697)\ttotal: 20.5s\tremaining: 14m 15s\n",
      "800:\tlearn: 0.8139461\ttest: 0.8098487\tbest: 0.8098488 (797)\ttotal: 23.5s\tremaining: 14m 16s\n",
      "900:\tlearn: 0.8145384\ttest: 0.8098895\tbest: 0.8098895 (900)\ttotal: 26.4s\tremaining: 14m 12s\n",
      "1000:\tlearn: 0.8151279\ttest: 0.8098987\tbest: 0.8099004 (988)\ttotal: 29s\tremaining: 13m 58s\n",
      "1100:\tlearn: 0.8157133\ttest: 0.8099246\tbest: 0.8099284 (1056)\ttotal: 31.6s\tremaining: 13m 49s\n",
      "bestTest = 0.8099284172\n",
      "bestIteration = 1056\n",
      "Shrink model to first 1057 iterations.\n"
     ]
    },
    {
     "name": "stderr",
     "output_type": "stream",
     "text": [
      "8it [04:16, 32.87s/it]"
     ]
    },
    {
     "name": "stdout",
     "output_type": "stream",
     "text": [
      "0:\tlearn: 0.8007562\ttest: 0.8013276\tbest: 0.8013276 (0)\ttotal: 31.9ms\tremaining: 15m 57s\n",
      "100:\tlearn: 0.8090397\ttest: 0.8093518\tbest: 0.8093518 (100)\ttotal: 2.86s\tremaining: 14m 6s\n",
      "200:\tlearn: 0.8099789\ttest: 0.8098867\tbest: 0.8098867 (200)\ttotal: 5.48s\tremaining: 13m 32s\n",
      "300:\tlearn: 0.8106909\ttest: 0.8101062\tbest: 0.8101062 (300)\ttotal: 8.27s\tremaining: 13m 36s\n",
      "400:\tlearn: 0.8113392\ttest: 0.8102269\tbest: 0.8102269 (400)\ttotal: 11.1s\tremaining: 13m 36s\n",
      "500:\tlearn: 0.8120120\ttest: 0.8103085\tbest: 0.8103110 (489)\ttotal: 13.9s\tremaining: 13m 38s\n",
      "600:\tlearn: 0.8126458\ttest: 0.8103682\tbest: 0.8103689 (598)\ttotal: 16.9s\tremaining: 13m 44s\n",
      "700:\tlearn: 0.8132613\ttest: 0.8104084\tbest: 0.8104084 (700)\ttotal: 19.7s\tremaining: 13m 44s\n",
      "800:\tlearn: 0.8138545\ttest: 0.8104405\tbest: 0.8104405 (800)\ttotal: 22.5s\tremaining: 13m 41s\n",
      "900:\tlearn: 0.8144601\ttest: 0.8104642\tbest: 0.8104642 (900)\ttotal: 25.3s\tremaining: 13m 36s\n",
      "bestTest = 0.8104654849\n",
      "bestIteration = 905\n",
      "Shrink model to first 906 iterations.\n"
     ]
    },
    {
     "name": "stderr",
     "output_type": "stream",
     "text": [
      "9it [04:45, 31.72s/it]\n"
     ]
    },
    {
     "name": "stdout",
     "output_type": "stream",
     "text": [
      "seed 461209, AUC: 0.8100154195655631\n"
     ]
    },
    {
     "name": "stderr",
     "output_type": "stream",
     "text": [
      "0it [00:00, ?it/s]"
     ]
    },
    {
     "name": "stdout",
     "output_type": "stream",
     "text": [
      "0:\tlearn: 0.8015010\ttest: 0.8002967\tbest: 0.8002967 (0)\ttotal: 33.8ms\tremaining: 16m 55s\n",
      "100:\tlearn: 0.8091962\ttest: 0.8079989\tbest: 0.8079989 (100)\ttotal: 2.73s\tremaining: 13m 29s\n",
      "200:\tlearn: 0.8101471\ttest: 0.8085611\tbest: 0.8085611 (200)\ttotal: 5.41s\tremaining: 13m 22s\n",
      "300:\tlearn: 0.8108364\ttest: 0.8087817\tbest: 0.8087817 (300)\ttotal: 8.08s\tremaining: 13m 17s\n",
      "400:\tlearn: 0.8114958\ttest: 0.8089265\tbest: 0.8089265 (397)\ttotal: 10.8s\tremaining: 13m 19s\n",
      "500:\tlearn: 0.8121608\ttest: 0.8090117\tbest: 0.8090117 (500)\ttotal: 13.6s\tremaining: 13m 21s\n",
      "600:\tlearn: 0.8127842\ttest: 0.8090479\tbest: 0.8090497 (587)\ttotal: 16.4s\tremaining: 13m 21s\n",
      "700:\tlearn: 0.8133929\ttest: 0.8090843\tbest: 0.8090894 (688)\ttotal: 19.1s\tremaining: 13m 20s\n",
      "800:\tlearn: 0.8140057\ttest: 0.8091198\tbest: 0.8091198 (800)\ttotal: 21.9s\tremaining: 13m 18s\n",
      "900:\tlearn: 0.8145965\ttest: 0.8091326\tbest: 0.8091326 (900)\ttotal: 24.8s\tremaining: 13m 20s\n",
      "1000:\tlearn: 0.8151848\ttest: 0.8091512\tbest: 0.8091516 (999)\ttotal: 27.7s\tremaining: 13m 21s\n",
      "bestTest = 0.8091616631\n",
      "bestIteration = 1032\n",
      "Shrink model to first 1033 iterations.\n"
     ]
    },
    {
     "name": "stderr",
     "output_type": "stream",
     "text": [
      "1it [00:32, 32.06s/it]"
     ]
    },
    {
     "name": "stdout",
     "output_type": "stream",
     "text": [
      "0:\tlearn: 0.8014469\ttest: 0.8007257\tbest: 0.8007257 (0)\ttotal: 37.2ms\tremaining: 18m 37s\n",
      "100:\tlearn: 0.8091663\ttest: 0.8082926\tbest: 0.8082926 (100)\ttotal: 2.71s\tremaining: 13m 23s\n",
      "200:\tlearn: 0.8100998\ttest: 0.8088302\tbest: 0.8088302 (200)\ttotal: 5.38s\tremaining: 13m 18s\n",
      "300:\tlearn: 0.8108016\ttest: 0.8090563\tbest: 0.8090572 (298)\ttotal: 8.03s\tremaining: 13m 12s\n",
      "400:\tlearn: 0.8114538\ttest: 0.8091972\tbest: 0.8091975 (399)\ttotal: 10.5s\tremaining: 12m 54s\n",
      "500:\tlearn: 0.8121188\ttest: 0.8092889\tbest: 0.8092889 (500)\ttotal: 13.1s\tremaining: 12m 50s\n",
      "600:\tlearn: 0.8127580\ttest: 0.8093595\tbest: 0.8093595 (600)\ttotal: 15.9s\tremaining: 12m 57s\n",
      "700:\tlearn: 0.8133592\ttest: 0.8093877\tbest: 0.8093877 (700)\ttotal: 18.6s\tremaining: 12m 58s\n",
      "800:\tlearn: 0.8139639\ttest: 0.8094085\tbest: 0.8094107 (776)\ttotal: 21.3s\tremaining: 12m 57s\n",
      "900:\tlearn: 0.8145575\ttest: 0.8094414\tbest: 0.8094452 (884)\ttotal: 24s\tremaining: 12m 56s\n",
      "1000:\tlearn: 0.8151274\ttest: 0.8094634\tbest: 0.8094634 (1000)\ttotal: 26.5s\tremaining: 12m 48s\n",
      "1100:\tlearn: 0.8156961\ttest: 0.8094871\tbest: 0.8094901 (1097)\ttotal: 29s\tremaining: 12m 41s\n",
      "bestTest = 0.8094919026\n",
      "bestIteration = 1105\n",
      "Shrink model to first 1106 iterations.\n"
     ]
    },
    {
     "name": "stderr",
     "output_type": "stream",
     "text": [
      "2it [01:04, 32.11s/it]"
     ]
    },
    {
     "name": "stdout",
     "output_type": "stream",
     "text": [
      "0:\tlearn: 0.8013368\ttest: 0.8016611\tbest: 0.8016611 (0)\ttotal: 31.4ms\tremaining: 15m 41s\n",
      "100:\tlearn: 0.8090117\ttest: 0.8093102\tbest: 0.8093102 (100)\ttotal: 2.62s\tremaining: 12m 54s\n",
      "200:\tlearn: 0.8099473\ttest: 0.8098972\tbest: 0.8098972 (200)\ttotal: 5.33s\tremaining: 13m 9s\n",
      "300:\tlearn: 0.8106364\ttest: 0.8101355\tbest: 0.8101360 (298)\ttotal: 8.09s\tremaining: 13m 18s\n",
      "400:\tlearn: 0.8112983\ttest: 0.8102641\tbest: 0.8102641 (400)\ttotal: 10.7s\tremaining: 13m 7s\n",
      "500:\tlearn: 0.8119640\ttest: 0.8103454\tbest: 0.8103460 (499)\ttotal: 13.2s\tremaining: 12m 57s\n",
      "600:\tlearn: 0.8126030\ttest: 0.8104038\tbest: 0.8104038 (600)\ttotal: 15.8s\tremaining: 12m 52s\n",
      "700:\tlearn: 0.8132217\ttest: 0.8104681\tbest: 0.8104681 (700)\ttotal: 18.4s\tremaining: 12m 47s\n",
      "800:\tlearn: 0.8138192\ttest: 0.8104953\tbest: 0.8104973 (754)\ttotal: 21s\tremaining: 12m 44s\n",
      "900:\tlearn: 0.8144113\ttest: 0.8105184\tbest: 0.8105184 (900)\ttotal: 23.7s\tremaining: 12m 43s\n",
      "1000:\tlearn: 0.8150016\ttest: 0.8105415\tbest: 0.8105419 (999)\ttotal: 26.5s\tremaining: 12m 46s\n",
      "bestTest = 0.8105513453\n",
      "bestIteration = 1030\n",
      "Shrink model to first 1031 iterations.\n"
     ]
    },
    {
     "name": "stderr",
     "output_type": "stream",
     "text": [
      "3it [01:34, 31.34s/it]"
     ]
    },
    {
     "name": "stdout",
     "output_type": "stream",
     "text": [
      "0:\tlearn: 0.7999646\ttest: 0.8007293\tbest: 0.8007293 (0)\ttotal: 30ms\tremaining: 15m 1s\n",
      "100:\tlearn: 0.8089928\ttest: 0.8096678\tbest: 0.8096678 (100)\ttotal: 2.63s\tremaining: 12m 57s\n",
      "200:\tlearn: 0.8099169\ttest: 0.8102134\tbest: 0.8102134 (200)\ttotal: 5.32s\tremaining: 13m 8s\n",
      "300:\tlearn: 0.8106327\ttest: 0.8104424\tbest: 0.8104424 (300)\ttotal: 7.88s\tremaining: 12m 57s\n",
      "400:\tlearn: 0.8112851\ttest: 0.8105763\tbest: 0.8105763 (400)\ttotal: 10.6s\tremaining: 13m 2s\n",
      "500:\tlearn: 0.8119577\ttest: 0.8106719\tbest: 0.8106719 (500)\ttotal: 13.3s\tremaining: 13m 4s\n",
      "600:\tlearn: 0.8126028\ttest: 0.8107478\tbest: 0.8107492 (595)\ttotal: 16.1s\tremaining: 13m 10s\n",
      "700:\tlearn: 0.8132184\ttest: 0.8107728\tbest: 0.8107729 (699)\ttotal: 19s\tremaining: 13m 14s\n",
      "800:\tlearn: 0.8138062\ttest: 0.8107966\tbest: 0.8108024 (782)\ttotal: 21.8s\tremaining: 13m 15s\n",
      "900:\tlearn: 0.8144078\ttest: 0.8108143\tbest: 0.8108148 (899)\ttotal: 24.5s\tremaining: 13m 12s\n",
      "1000:\tlearn: 0.8150004\ttest: 0.8108523\tbest: 0.8108529 (995)\ttotal: 27s\tremaining: 13m 3s\n",
      "1100:\tlearn: 0.8156002\ttest: 0.8108580\tbest: 0.8108622 (1085)\ttotal: 29.7s\tremaining: 13m\n",
      "bestTest = 0.8108621538\n",
      "bestIteration = 1085\n",
      "Shrink model to first 1086 iterations.\n"
     ]
    },
    {
     "name": "stderr",
     "output_type": "stream",
     "text": [
      "4it [02:06, 31.72s/it]"
     ]
    },
    {
     "name": "stdout",
     "output_type": "stream",
     "text": [
      "0:\tlearn: 0.8012402\ttest: 0.8019512\tbest: 0.8019512 (0)\ttotal: 29.8ms\tremaining: 14m 54s\n",
      "100:\tlearn: 0.8089993\ttest: 0.8093849\tbest: 0.8093849 (100)\ttotal: 2.77s\tremaining: 13m 40s\n",
      "200:\tlearn: 0.8099636\ttest: 0.8098943\tbest: 0.8098943 (200)\ttotal: 5.55s\tremaining: 13m 42s\n",
      "300:\tlearn: 0.8106739\ttest: 0.8101124\tbest: 0.8101124 (300)\ttotal: 8.46s\tremaining: 13m 55s\n",
      "400:\tlearn: 0.8113236\ttest: 0.8102318\tbest: 0.8102324 (399)\ttotal: 11.3s\tremaining: 13m 57s\n",
      "500:\tlearn: 0.8119949\ttest: 0.8103168\tbest: 0.8103168 (500)\ttotal: 14s\tremaining: 13m 43s\n",
      "600:\tlearn: 0.8126131\ttest: 0.8103730\tbest: 0.8103730 (600)\ttotal: 16.7s\tremaining: 13m 36s\n",
      "700:\tlearn: 0.8132252\ttest: 0.8104269\tbest: 0.8104280 (698)\ttotal: 19.5s\tremaining: 13m 35s\n",
      "800:\tlearn: 0.8138172\ttest: 0.8104510\tbest: 0.8104527 (778)\ttotal: 22.3s\tremaining: 13m 32s\n",
      "900:\tlearn: 0.8144005\ttest: 0.8104747\tbest: 0.8104782 (868)\ttotal: 24.9s\tremaining: 13m 24s\n",
      "bestTest = 0.8104781806\n",
      "bestIteration = 868\n",
      "Shrink model to first 869 iterations.\n"
     ]
    },
    {
     "name": "stderr",
     "output_type": "stream",
     "text": [
      "5it [02:33, 30.02s/it]"
     ]
    },
    {
     "name": "stdout",
     "output_type": "stream",
     "text": [
      "0:\tlearn: 0.8014752\ttest: 0.8003256\tbest: 0.8003256 (0)\ttotal: 31.2ms\tremaining: 15m 37s\n",
      "100:\tlearn: 0.8092122\ttest: 0.8078003\tbest: 0.8078003 (100)\ttotal: 2.65s\tremaining: 13m 4s\n",
      "200:\tlearn: 0.8101528\ttest: 0.8083708\tbest: 0.8083708 (200)\ttotal: 5.63s\tremaining: 13m 55s\n",
      "300:\tlearn: 0.8108485\ttest: 0.8086269\tbest: 0.8086269 (300)\ttotal: 8.34s\tremaining: 13m 43s\n",
      "400:\tlearn: 0.8114983\ttest: 0.8087689\tbest: 0.8087689 (400)\ttotal: 11.1s\tremaining: 13m 38s\n",
      "500:\tlearn: 0.8121469\ttest: 0.8088636\tbest: 0.8088636 (500)\ttotal: 14.1s\tremaining: 13m 49s\n",
      "600:\tlearn: 0.8127992\ttest: 0.8089403\tbest: 0.8089403 (600)\ttotal: 16.8s\tremaining: 13m 39s\n",
      "700:\tlearn: 0.8134058\ttest: 0.8089795\tbest: 0.8089800 (699)\ttotal: 19.5s\tremaining: 13m 33s\n",
      "800:\tlearn: 0.8140135\ttest: 0.8090022\tbest: 0.8090029 (799)\ttotal: 22.2s\tremaining: 13m 29s\n",
      "900:\tlearn: 0.8145950\ttest: 0.8090408\tbest: 0.8090442 (884)\ttotal: 25s\tremaining: 13m 28s\n",
      "bestTest = 0.8090463579\n",
      "bestIteration = 913\n",
      "Shrink model to first 914 iterations.\n"
     ]
    },
    {
     "name": "stderr",
     "output_type": "stream",
     "text": [
      "6it [03:02, 29.51s/it]"
     ]
    },
    {
     "name": "stdout",
     "output_type": "stream",
     "text": [
      "0:\tlearn: 0.8015572\ttest: 0.8027026\tbest: 0.8027026 (0)\ttotal: 31.9ms\tremaining: 15m 58s\n",
      "100:\tlearn: 0.8089853\ttest: 0.8095514\tbest: 0.8095514 (100)\ttotal: 2.9s\tremaining: 14m 19s\n",
      "200:\tlearn: 0.8099496\ttest: 0.8101436\tbest: 0.8101436 (200)\ttotal: 5.54s\tremaining: 13m 40s\n",
      "300:\tlearn: 0.8106549\ttest: 0.8104060\tbest: 0.8104060 (300)\ttotal: 8.26s\tremaining: 13m 35s\n",
      "400:\tlearn: 0.8113067\ttest: 0.8105449\tbest: 0.8105449 (400)\ttotal: 11.1s\tremaining: 13m 39s\n",
      "500:\tlearn: 0.8119693\ttest: 0.8106380\tbest: 0.8106387 (499)\ttotal: 13.8s\tremaining: 13m 30s\n",
      "600:\tlearn: 0.8125983\ttest: 0.8107315\tbest: 0.8107322 (599)\ttotal: 16.5s\tremaining: 13m 28s\n",
      "700:\tlearn: 0.8132310\ttest: 0.8107821\tbest: 0.8107821 (700)\ttotal: 19.4s\tremaining: 13m 32s\n",
      "800:\tlearn: 0.8138214\ttest: 0.8108187\tbest: 0.8108195 (791)\ttotal: 22.2s\tremaining: 13m 27s\n",
      "900:\tlearn: 0.8144149\ttest: 0.8108610\tbest: 0.8108610 (900)\ttotal: 24.7s\tremaining: 13m 17s\n",
      "1000:\tlearn: 0.8149866\ttest: 0.8108945\tbest: 0.8108971 (987)\ttotal: 27.4s\tremaining: 13m 14s\n",
      "1100:\tlearn: 0.8155575\ttest: 0.8109117\tbest: 0.8109150 (1076)\ttotal: 29.9s\tremaining: 13m 5s\n",
      "1200:\tlearn: 0.8161298\ttest: 0.8109454\tbest: 0.8109454 (1200)\ttotal: 32.5s\tremaining: 13m\n",
      "bestTest = 0.8109514117\n",
      "bestIteration = 1222\n",
      "Shrink model to first 1223 iterations.\n"
     ]
    },
    {
     "name": "stderr",
     "output_type": "stream",
     "text": [
      "7it [03:38, 31.64s/it]"
     ]
    },
    {
     "name": "stdout",
     "output_type": "stream",
     "text": [
      "0:\tlearn: 0.8014539\ttest: 0.8005056\tbest: 0.8005056 (0)\ttotal: 31.4ms\tremaining: 15m 43s\n",
      "100:\tlearn: 0.8091606\ttest: 0.8081242\tbest: 0.8081242 (100)\ttotal: 2.58s\tremaining: 12m 45s\n",
      "200:\tlearn: 0.8101124\ttest: 0.8087627\tbest: 0.8087627 (200)\ttotal: 5.26s\tremaining: 12m 59s\n",
      "300:\tlearn: 0.8108035\ttest: 0.8090228\tbest: 0.8090228 (300)\ttotal: 7.74s\tremaining: 12m 43s\n",
      "400:\tlearn: 0.8114702\ttest: 0.8091790\tbest: 0.8091790 (400)\ttotal: 10.2s\tremaining: 12m 36s\n",
      "500:\tlearn: 0.8121306\ttest: 0.8092846\tbest: 0.8092846 (500)\ttotal: 12.8s\tremaining: 12m 33s\n",
      "600:\tlearn: 0.8127473\ttest: 0.8093420\tbest: 0.8093420 (600)\ttotal: 15.4s\tremaining: 12m 35s\n",
      "700:\tlearn: 0.8133348\ttest: 0.8093984\tbest: 0.8094000 (696)\ttotal: 18.2s\tremaining: 12m 38s\n",
      "800:\tlearn: 0.8139347\ttest: 0.8094355\tbest: 0.8094382 (789)\ttotal: 20.7s\tremaining: 12m 36s\n",
      "900:\tlearn: 0.8145339\ttest: 0.8094627\tbest: 0.8094627 (900)\ttotal: 23.4s\tremaining: 12m 36s\n",
      "1000:\tlearn: 0.8151298\ttest: 0.8094842\tbest: 0.8094859 (992)\ttotal: 26s\tremaining: 12m 32s\n",
      "1100:\tlearn: 0.8157052\ttest: 0.8094996\tbest: 0.8095027 (1074)\ttotal: 28.4s\tremaining: 12m 26s\n",
      "1200:\tlearn: 0.8162754\ttest: 0.8095106\tbest: 0.8095112 (1199)\ttotal: 30.9s\tremaining: 12m 21s\n",
      "1300:\tlearn: 0.8168154\ttest: 0.8095403\tbest: 0.8095403 (1300)\ttotal: 33.4s\tremaining: 12m 16s\n",
      "1400:\tlearn: 0.8173720\ttest: 0.8095519\tbest: 0.8095579 (1373)\ttotal: 35.8s\tremaining: 12m 11s\n",
      "bestTest = 0.8095579147\n",
      "bestIteration = 1373\n",
      "Shrink model to first 1374 iterations.\n"
     ]
    },
    {
     "name": "stderr",
     "output_type": "stream",
     "text": [
      "8it [04:16, 33.68s/it]"
     ]
    },
    {
     "name": "stdout",
     "output_type": "stream",
     "text": [
      "0:\tlearn: 0.8013716\ttest: 0.8013836\tbest: 0.8013836 (0)\ttotal: 29.1ms\tremaining: 14m 32s\n",
      "100:\tlearn: 0.8090803\ttest: 0.8087842\tbest: 0.8087842 (100)\ttotal: 2.38s\tremaining: 11m 44s\n",
      "200:\tlearn: 0.8100430\ttest: 0.8093792\tbest: 0.8093792 (200)\ttotal: 4.91s\tremaining: 12m 7s\n",
      "300:\tlearn: 0.8107356\ttest: 0.8096349\tbest: 0.8096349 (300)\ttotal: 7.49s\tremaining: 12m 18s\n",
      "400:\tlearn: 0.8113843\ttest: 0.8097847\tbest: 0.8097847 (400)\ttotal: 9.93s\tremaining: 12m 13s\n",
      "500:\tlearn: 0.8120617\ttest: 0.8098818\tbest: 0.8098818 (500)\ttotal: 12.5s\tremaining: 12m 17s\n",
      "600:\tlearn: 0.8127114\ttest: 0.8099457\tbest: 0.8099457 (600)\ttotal: 15.2s\tremaining: 12m 23s\n",
      "700:\tlearn: 0.8133217\ttest: 0.8099849\tbest: 0.8099849 (700)\ttotal: 17.8s\tremaining: 12m 25s\n",
      "800:\tlearn: 0.8139195\ttest: 0.8100227\tbest: 0.8100239 (789)\ttotal: 20.6s\tremaining: 12m 29s\n",
      "bestTest = 0.8100401759\n",
      "bestIteration = 828\n",
      "Shrink model to first 829 iterations.\n"
     ]
    },
    {
     "name": "stderr",
     "output_type": "stream",
     "text": [
      "9it [04:40, 31.19s/it]\n"
     ]
    },
    {
     "name": "stdout",
     "output_type": "stream",
     "text": [
      "seed 120946, AUC: 0.8100139453990907\n",
      "0.8100176037455347\n"
     ]
    }
   ],
   "source": [
    "seeds = [\n",
    "    20201209,\n",
    "    461209,\n",
    "    120946\n",
    "]\n",
    "\n",
    "pred_sa = np.zeros(len(y_val))\n",
    "aucs = []\n",
    "models = []\n",
    "for RANDOM_STATE in seeds:\n",
    "\n",
    "    kf = KFold(n_splits=9, random_state=RANDOM_STATE, shuffle=True)\n",
    "\n",
    "    models_s, pred_oof = predict_cv_cat(\n",
    "        pd.concat([preds_vals, X_val_wo_lec[use_features]], axis=1),\n",
    "        y_val,\n",
    "        kf,\n",
    "    )\n",
    "    pred_sa += pred_oof / len(seeds)\n",
    "    auc = roc_auc_score(y_val, pred_oof)\n",
    "    aucs.append(auc)\n",
    "    print(f'seed {RANDOM_STATE}, AUC: {auc}')\n",
    "    \n",
    "    models.extend(models_s)\n",
    "\n",
    "print(sum(aucs) / len(aucs))\n",
    "\n",
    "if is_save is True:\n",
    "    stacking_name = f'catboost_with_fe_imp_sa{len(seeds)}'\n",
    "    if not os.path.exists(f'../save/{stacking_exp_name}/{stacking_name}'):\n",
    "        os.mkdir(f'../save/{stacking_exp_name}/{stacking_name}')\n",
    "    save_as_pkl(models, f'../save/{stacking_exp_name}/{stacking_name}/stacking_cat_models.pkl')\n",
    "    save_as_pkl(preds_names, f'../save/{stacking_exp_name}/{stacking_name}/stacking_cat_predsnames.pkl')\n",
    "    save_as_pkl(use_features, f'../save/{stacking_exp_name}/{stacking_name}/stacking_cat_use_features.pkl')"
   ]
  },
  {
   "cell_type": "code",
   "execution_count": null,
   "metadata": {},
   "outputs": [],
   "source": []
  }
 ],
 "metadata": {
  "kernelspec": {
   "display_name": "riiid_torch",
   "language": "python",
   "name": "riiid_torch"
  },
  "language_info": {
   "codemirror_mode": {
    "name": "ipython",
    "version": 3
   },
   "file_extension": ".py",
   "mimetype": "text/x-python",
   "name": "python",
   "nbconvert_exporter": "python",
   "pygments_lexer": "ipython3",
   "version": "3.7.8"
  }
 },
 "nbformat": 4,
 "nbformat_minor": 4
}
